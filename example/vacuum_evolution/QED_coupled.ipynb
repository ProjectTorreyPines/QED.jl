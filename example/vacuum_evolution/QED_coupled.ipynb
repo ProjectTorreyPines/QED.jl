{
 "cells": [
  {
   "cell_type": "code",
   "execution_count": null,
   "id": "491ce7e8-1c28-4970-a368-44be145ef480",
   "metadata": {},
   "outputs": [],
   "source": [
    "import Pkg\n",
    "Pkg.activate()\n",
    "using FUSE, IMAS, QED, VacuumFields\n",
    "using LinearAlgebra\n",
    "using Interact, Plots"
   ]
  },
  {
   "cell_type": "code",
   "execution_count": null,
   "id": "5bd14a31-edfa-45f3-ad10-9aa5338133a1",
   "metadata": {},
   "outputs": [],
   "source": [
    "dd, ini, act = FUSE.init(:ITER, init_from=:ods);\n",
    "FUSE.ActorPassiveStructures(dd, act); # initialize passive coils\n",
    "FUSE.ActorEquilibrium(dd, act; ip_from=:pulse_schedule); # initialize active coil currents"
   ]
  },
  {
   "cell_type": "code",
   "execution_count": null,
   "id": "5ec43ba8-bbf8-40ae-bed9-feabade7f309",
   "metadata": {},
   "outputs": [],
   "source": [
    "active_coils = VacuumFields.MultiCoils(dd)[1:end-2];\n",
    "passive_coils = VacuumFields.QuadCoil[]\n",
    "for loop in dd.pf_passive.loop\n",
    "    for element in loop.element\n",
    "        outline = element.geometry.outline\n",
    "        @assert length(outline.r) == 4 \"For the time being passive structures must be composed of quadrilateral elements\"\n",
    "        passive_coil = VacuumFields.QuadCoil(outline.r, outline.z)\n",
    "        passive_coil.resistance = VacuumFields.resistance(passive_coil, loop.resistivity)\n",
    "        push!(passive_coils, passive_coil)\n",
    "    end\n",
    "end\n",
    "coils = deepcopy(vcat(active_coils, passive_coils));"
   ]
  },
  {
   "cell_type": "code",
   "execution_count": null,
   "id": "b2f4ee20-4e75-4166-82fc-9fd8dc84ebfc",
   "metadata": {},
   "outputs": [],
   "source": [
    "# COIL ONLY PROPERTIES\n",
    "Mcc = [VacuumFields.mutual(c1, c2) for c1 in coils, c2 in coils]\n",
    "\n",
    "# coil current in this model is current per turn\n",
    "Ic = [VacuumFields.current(c) / VacuumFields.turns(c) for c in coils]\n",
    "Rc = [VacuumFields.resistance(c) for c in coils];\n",
    "Vc = zero(Ic);"
   ]
  },
  {
   "cell_type": "code",
   "execution_count": null,
   "id": "084c8e38-bd3a-413b-b696-723ef5ccf287",
   "metadata": {},
   "outputs": [],
   "source": [
    "# PLASMA INDUCTANCES\n",
    "\n",
    "eqt = dd.equilibrium.time_slice[]\n",
    "cp1d = dd.core_profiles.profiles_1d[]\n",
    "Ip = eqt.global_quantities.ip\n",
    "\n",
    "# COIL MUTUALS\n",
    "image = VacuumFields.Image(eqt)\n",
    "Mpc = [VacuumFields.mutual(image, coil, Ip) for coil in coils]\n",
    "dMpc_dt = zero(Mpc) # How Mpc changes in time (like shape)... to test later\n",
    "\n",
    "# INTERNAL INDUCTANCE\n",
    "It = IMAS.cumtrapz(cp1d.grid.area, cp1d.j_tor)\n",
    "Wp = 0.5 * IMAS.trapz(cp1d.grid.psi, It)\n",
    "Li = 2 * Wp / Ip^2\n",
    "\n",
    "# EXTERNAL INDUCTANCE\n",
    "ψb = eqt.profiles_1d.psi[end]\n",
    "ψc = sum(Mpc[k] * Ic[k] for k in eachindex(coils))\n",
    "Le = (ψb - ψc) / Ip\n",
    "Lp = Li + Le\n",
    "\n",
    "@show Li, Le, Lp"
   ]
  },
  {
   "cell_type": "code",
   "execution_count": null,
   "id": "07723db0-d536-4f63-b48f-aaa9ec4937df",
   "metadata": {},
   "outputs": [],
   "source": [
    "# COMPUTE RESISTANCE AS P_OHM / (IP * IOHM)\n",
    "Pohm = dd.core_sources.source[:ohmic].profiles_1d[].electrons.power_inside[end]\n",
    "Ini = dd.core_profiles.global_quantities.current_non_inductive[]\n",
    "Iohm = Ip - Ini\n",
    "Rp = Pohm / (Ip * Iohm)"
   ]
  },
  {
   "cell_type": "code",
   "execution_count": null,
   "id": "e87bf3b4-c738-4add-8318-fc0bfa226e76",
   "metadata": {},
   "outputs": [],
   "source": [
    "W0 = QED.Waveform{Float64}(t -> 0.0)\n",
    "W1 = QED.Waveform{Float64}(t -> -1e3) # VERY STRONG \n",
    "#Wramp = QED.Waveform{Float64}(t -> 1e3 * (t < t_ramp ? t/t_ramp : 1.0))\n",
    "V_waveforms = [k <= 6 ? W1 : W0 for k in eachindex(coils)];"
   ]
  },
  {
   "cell_type": "code",
   "execution_count": null,
   "id": "e2cad880-fe6d-40c6-bf8c-a8eb94ea0f82",
   "metadata": {},
   "outputs": [],
   "source": [
    "# non_inductive contribution\n",
    "B0 = eqt.global_quantities.vacuum_toroidal_field.b0\n",
    "JBni = QED.FE(cp1d.grid.rho_tor_norm, cp1d.j_non_inductive .* B0);"
   ]
  },
  {
   "cell_type": "code",
   "execution_count": null,
   "id": "2694084d-a2c2-4143-b77b-db3c4c8be4b4",
   "metadata": {},
   "outputs": [],
   "source": [
    "# Initialize\n",
    "QI = FUSE.qed_init_from_imas(eqt, cp1d; uniform_rho = 101)\n",
    "#QI.JBni = nothing;\n",
    "if QI.JBni === nothing\n",
    "    Vni = 0.0 \n",
    "else\n",
    "    Vni = Rp * Ini\n",
    "end\n",
    "build = QED.QED_build(Ic, Vc, Rc, Mcc, Vni, Rp, Lp, Mpc, dMpc_dt, V_waveforms);"
   ]
  },
  {
   "cell_type": "code",
   "execution_count": null,
   "id": "280b4f6a-48c3-415b-a011-6306aaa55fa0",
   "metadata": {},
   "outputs": [],
   "source": [
    "# Plasma only diffusion problem - standard QED\n",
    "\n",
    "t0 = dd.global_time\n",
    "t1 = t0 + 5.0\n",
    "δt = t1 - t0\n",
    "No = 1\n",
    "Ni = 1000\n",
    "Ip = nothing\n",
    "Vedge = 0.0\n",
    "time0 = t0 + δt / 2.0\n",
    "Qd = QED.diffuse(QI, FUSE.η_imas(dd.core_profiles.profiles_1d[time0]), δt, Ni; Vedge, Ip, debug=true);\n",
    "@show QED.Ip(QI), QED.Ip(Qd)"
   ]
  },
  {
   "cell_type": "code",
   "execution_count": null,
   "id": "cebb7187-9d68-430d-832a-0da24936009e",
   "metadata": {},
   "outputs": [],
   "source": [
    "# Full coupled evolution\n",
    "BO = deepcopy(build)\n",
    "Qe = QED.evolve(deepcopy(QI), FUSE.η_imas(dd.core_profiles.profiles_1d[time0]), BO, δt, Ni; debug=true);\n",
    "plot(Qd.ρ, QED.Jt_R(Qd), lw=3)\n",
    "display(plot!(Qe.ρ, QED.Jt_R(Qe), lw=3, ls=:dash))\n",
    "@show QED.Ip(QI), QED.Ip(Qd), QED.Ip(Qe)"
   ]
  },
  {
   "cell_type": "code",
   "execution_count": null,
   "id": "c01851e4-4026-4221-84c4-d4b08eea9ef1",
   "metadata": {},
   "outputs": [],
   "source": [
    "c = cgrad(:diverging)\n",
    "B = BO\n",
    "Jmax = maximum(abs.(B.Ic))\n",
    "p = plot(aspect_ratio=:equal)\n",
    "for (i,coil) in enumerate(coils)\n",
    "    current_color_index = (B.Ic[i] + Jmax) / (2 * Jmax)\n",
    "    plot!(p, coil,color=c[current_color_index], alpha=1.0)\n",
    "end\n",
    "display(p)"
   ]
  },
  {
   "cell_type": "code",
   "execution_count": null,
   "id": "31d096b8-3e04-47c9-8641-c4f6d6900997",
   "metadata": {},
   "outputs": [],
   "source": [
    "Lp"
   ]
  },
  {
   "cell_type": "code",
   "execution_count": null,
   "id": "ba8f518f-e62d-4089-8ed4-813d26ef64c8",
   "metadata": {},
   "outputs": [],
   "source": []
  },
  {
   "cell_type": "code",
   "execution_count": null,
   "id": "02dac3d2-aa56-4b6d-96a0-a4ecbd0f86a4",
   "metadata": {},
   "outputs": [],
   "source": [
    "dd.equilibrium.time"
   ]
  },
  {
   "cell_type": "code",
   "execution_count": null,
   "id": "5c8cb332-b236-436a-be4d-00cba1179862",
   "metadata": {},
   "outputs": [],
   "source": [
    "Rp"
   ]
  },
  {
   "cell_type": "code",
   "execution_count": null,
   "id": "a83d3b89-479b-48f8-be0f-f931f5fa4813",
   "metadata": {},
   "outputs": [],
   "source": [
    "Lp"
   ]
  },
  {
   "cell_type": "code",
   "execution_count": null,
   "id": "d5c13227-29d0-4f16-b4dd-11111266b754",
   "metadata": {},
   "outputs": [],
   "source": [
    "IMAS.imas2json(dd, \"/Users/lyons/Downloads/iter_ods.json\", freeze=true, strict=true);"
   ]
  },
  {
   "cell_type": "code",
   "execution_count": null,
   "id": "56a98c90-0290-48a0-bc8f-cd17ae2d25b6",
   "metadata": {},
   "outputs": [],
   "source": [
    "[VacuumFields.turns(c) for c in active_coils]"
   ]
  },
  {
   "cell_type": "code",
   "execution_count": null,
   "id": "6657dd6d-71f1-4a5c-8ef5-7170d145d616",
   "metadata": {},
   "outputs": [],
   "source": [
    "dd.pf_active.coil[1]"
   ]
  },
  {
   "cell_type": "code",
   "execution_count": null,
   "id": "da42b6e2-6d31-4746-b1a1-44025d624686",
   "metadata": {},
   "outputs": [],
   "source": [
    "Ic = [VacuumFields.current(c) for c in dd.pf_active.coil]\n",
    "@show Ic"
   ]
  },
  {
   "cell_type": "code",
   "execution_count": null,
   "id": "498aaead-6494-40c5-ae17-a93ac9ef06e9",
   "metadata": {},
   "outputs": [],
   "source": [
    "(-2.326557198014836e7 -1.8934747387408897e7) /2"
   ]
  },
  {
   "cell_type": "code",
   "execution_count": null,
   "id": "088889d8-53d5-4d7e-9f3e-1467a6b89001",
   "metadata": {},
   "outputs": [],
   "source": [
    "R = collect(range(3,9,65))\n",
    "Z = collect(range(-6,6,129))\n",
    "FUSE.ActorTEQUILA(dd, act; ip_from=:core_profiles, R, Z)"
   ]
  },
  {
   "cell_type": "code",
   "execution_count": null,
   "id": "8ffcb9e0-1fac-4c8f-97b1-1a736b5a9987",
   "metadata": {},
   "outputs": [],
   "source": [
    "eq2d = dd.equilibrium.time_slice[].profiles_2d[2]\n",
    "R = eq2d.dim1\n",
    "Z = eq2d.dim2\n",
    "Jt = eq2d.j_tor\n",
    "psi2d = "
   ]
  },
  {
   "cell_type": "code",
   "execution_count": null,
   "id": "b8e173dc-1541-4ea0-8a60-e61a15c06ca2",
   "metadata": {},
   "outputs": [],
   "source": [
    "IMAS.imas2json(dd, \"/Users/lyons/Downloads/iter_ods2.json\", freeze=true, strict=true);"
   ]
  }
 ],
 "metadata": {
  "kernelspec": {
   "display_name": "Julia (8 threads) 1.10.5",
   "language": "julia",
   "name": "julia-_8-threads_-1.10"
  },
  "language_info": {
   "file_extension": ".jl",
   "mimetype": "application/julia",
   "name": "julia",
   "version": "1.10.5"
  }
 },
 "nbformat": 4,
 "nbformat_minor": 5
}
